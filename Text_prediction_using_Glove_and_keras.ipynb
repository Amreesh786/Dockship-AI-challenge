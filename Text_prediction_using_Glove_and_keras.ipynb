{
  "nbformat": 4,
  "nbformat_minor": 0,
  "metadata": {
    "colab": {
      "name": "Text prediction using Glove and keras.ipynb",
      "provenance": []
    },
    "kernelspec": {
      "display_name": "Python 3",
      "language": "python",
      "name": "python3"
    },
    "language_info": {
      "codemirror_mode": {
        "name": "ipython",
        "version": 3
      },
      "file_extension": ".py",
      "mimetype": "text/x-python",
      "name": "python",
      "nbconvert_exporter": "python",
      "pygments_lexer": "ipython3",
      "version": "3.6.2"
    }
  },
  "cells": [
    {
      "cell_type": "code",
      "metadata": {
        "id": "aw4dEXbLQ75v"
      },
      "source": [
        "import pandas as pd\n",
        "import numpy as np\n",
        "import re\n",
        "\n",
        "from sklearn.model_selection import train_test_split\n",
        "from keras.preprocessing.text import Tokenizer\n",
        "from keras.preprocessing.sequence import pad_sequences\n",
        "\n",
        "from keras.models import Model\n",
        "from keras.layers import Embedding, Input, Dense, LSTM\n",
        "from keras.callbacks import ModelCheckpoint"
      ],
      "execution_count": null,
      "outputs": []
    },
    {
      "cell_type": "code",
      "metadata": {
        "id": "2wjtFJ3ZQ75y",
        "outputId": "a2be1cad-4506-4dfd-81be-e7dc8557bff8"
      },
      "source": [
        "train_data = pd.read_csv('internship/TRAIN.csv')\n",
        "train_data.head()"
      ],
      "execution_count": null,
      "outputs": [
        {
          "output_type": "execute_result",
          "data": {
            "text/html": [
              "<div>\n",
              "<style scoped>\n",
              "    .dataframe tbody tr th:only-of-type {\n",
              "        vertical-align: middle;\n",
              "    }\n",
              "\n",
              "    .dataframe tbody tr th {\n",
              "        vertical-align: top;\n",
              "    }\n",
              "\n",
              "    .dataframe thead th {\n",
              "        text-align: right;\n",
              "    }\n",
              "</style>\n",
              "<table border=\"1\" class=\"dataframe\">\n",
              "  <thead>\n",
              "    <tr style=\"text-align: right;\">\n",
              "      <th></th>\n",
              "      <th>TITLE</th>\n",
              "      <th>ABSTRACT</th>\n",
              "      <th>Computer Science</th>\n",
              "      <th>Physics</th>\n",
              "      <th>Mathematics</th>\n",
              "      <th>Statistics</th>\n",
              "      <th>Quantitative Biology</th>\n",
              "      <th>Quantitative Finance</th>\n",
              "      <th>labels</th>\n",
              "    </tr>\n",
              "  </thead>\n",
              "  <tbody>\n",
              "    <tr>\n",
              "      <th>0</th>\n",
              "      <td>ChemGAN challenge for drug discovery: can AI r...</td>\n",
              "      <td>Generating molecules with desired chemical p...</td>\n",
              "      <td>1</td>\n",
              "      <td>0</td>\n",
              "      <td>0</td>\n",
              "      <td>1</td>\n",
              "      <td>0</td>\n",
              "      <td>0</td>\n",
              "      <td>Computer Science,Statistics</td>\n",
              "    </tr>\n",
              "    <tr>\n",
              "      <th>1</th>\n",
              "      <td>Hybrid graphene tunneling photoconductor with ...</td>\n",
              "      <td>Hybrid graphene photoconductor/phototransist...</td>\n",
              "      <td>0</td>\n",
              "      <td>1</td>\n",
              "      <td>0</td>\n",
              "      <td>0</td>\n",
              "      <td>0</td>\n",
              "      <td>0</td>\n",
              "      <td>Physics</td>\n",
              "    </tr>\n",
              "    <tr>\n",
              "      <th>2</th>\n",
              "      <td>Temperature Dependence of Magnetic Excitations...</td>\n",
              "      <td>When an ordered spin system of a given dimen...</td>\n",
              "      <td>0</td>\n",
              "      <td>1</td>\n",
              "      <td>0</td>\n",
              "      <td>0</td>\n",
              "      <td>0</td>\n",
              "      <td>0</td>\n",
              "      <td>Physics</td>\n",
              "    </tr>\n",
              "    <tr>\n",
              "      <th>3</th>\n",
              "      <td>A Las Vegas algorithm to solve the elliptic cu...</td>\n",
              "      <td>In this paper, we describe a new Las Vegas a...</td>\n",
              "      <td>1</td>\n",
              "      <td>0</td>\n",
              "      <td>1</td>\n",
              "      <td>0</td>\n",
              "      <td>0</td>\n",
              "      <td>0</td>\n",
              "      <td>Computer Science,Mathematics</td>\n",
              "    </tr>\n",
              "    <tr>\n",
              "      <th>4</th>\n",
              "      <td>Comparing simulations and test data of a radia...</td>\n",
              "      <td>The VIS instrument on board the Euclid missi...</td>\n",
              "      <td>0</td>\n",
              "      <td>1</td>\n",
              "      <td>0</td>\n",
              "      <td>0</td>\n",
              "      <td>0</td>\n",
              "      <td>0</td>\n",
              "      <td>Physics</td>\n",
              "    </tr>\n",
              "  </tbody>\n",
              "</table>\n",
              "</div>"
            ],
            "text/plain": [
              "                                               TITLE  \\\n",
              "0  ChemGAN challenge for drug discovery: can AI r...   \n",
              "1  Hybrid graphene tunneling photoconductor with ...   \n",
              "2  Temperature Dependence of Magnetic Excitations...   \n",
              "3  A Las Vegas algorithm to solve the elliptic cu...   \n",
              "4  Comparing simulations and test data of a radia...   \n",
              "\n",
              "                                            ABSTRACT  Computer Science  \\\n",
              "0    Generating molecules with desired chemical p...                 1   \n",
              "1    Hybrid graphene photoconductor/phototransist...                 0   \n",
              "2    When an ordered spin system of a given dimen...                 0   \n",
              "3    In this paper, we describe a new Las Vegas a...                 1   \n",
              "4    The VIS instrument on board the Euclid missi...                 0   \n",
              "\n",
              "   Physics  Mathematics  Statistics  Quantitative Biology  \\\n",
              "0        0            0           1                     0   \n",
              "1        1            0           0                     0   \n",
              "2        1            0           0                     0   \n",
              "3        0            1           0                     0   \n",
              "4        1            0           0                     0   \n",
              "\n",
              "   Quantitative Finance                        labels  \n",
              "0                     0   Computer Science,Statistics  \n",
              "1                     0                       Physics  \n",
              "2                     0                       Physics  \n",
              "3                     0  Computer Science,Mathematics  \n",
              "4                     0                       Physics  "
            ]
          },
          "metadata": {
            "tags": []
          },
          "execution_count": 2
        }
      ]
    },
    {
      "cell_type": "code",
      "metadata": {
        "id": "oIKegT9ifW9d"
      },
      "source": [
        "def preprocess_text(sen):\n",
        "    # Remove punctuations and numbers\n",
        "    sentence = sen.lower()\n",
        "    sentence = re.sub('[^a-zA-Z]', ' ', sentence)\n",
        "\n",
        "    # Single character removal\n",
        "    sentence = re.sub(r\"\\s+[a-zA-Z]\\s+\", ' ', sentence)\n",
        "\n",
        "    # Removing multiple spaces\n",
        "    sentence = re.sub(r'\\s+', ' ', sentence)\n",
        "\n",
        "    return sentence"
      ],
      "execution_count": null,
      "outputs": []
    },
    {
      "cell_type": "code",
      "metadata": {
        "id": "BZNBmI3iQ750"
      },
      "source": [
        "train_data['TITLE'] = train_data['TITLE'].apply(lambda x: preprocess_text(x))\n",
        "train_data['ABSTRACT'] = train_data['ABSTRACT'].apply(lambda x: preprocess_text(x))"
      ],
      "execution_count": null,
      "outputs": []
    },
    {
      "cell_type": "code",
      "metadata": {
        "id": "fkltLoeYQ750",
        "outputId": "4abefdd1-0ecf-423a-87d6-9ceb730434d1"
      },
      "source": [
        "train_data.head()"
      ],
      "execution_count": null,
      "outputs": [
        {
          "output_type": "execute_result",
          "data": {
            "text/html": [
              "<div>\n",
              "<style scoped>\n",
              "    .dataframe tbody tr th:only-of-type {\n",
              "        vertical-align: middle;\n",
              "    }\n",
              "\n",
              "    .dataframe tbody tr th {\n",
              "        vertical-align: top;\n",
              "    }\n",
              "\n",
              "    .dataframe thead th {\n",
              "        text-align: right;\n",
              "    }\n",
              "</style>\n",
              "<table border=\"1\" class=\"dataframe\">\n",
              "  <thead>\n",
              "    <tr style=\"text-align: right;\">\n",
              "      <th></th>\n",
              "      <th>TITLE</th>\n",
              "      <th>ABSTRACT</th>\n",
              "      <th>Computer Science</th>\n",
              "      <th>Physics</th>\n",
              "      <th>Mathematics</th>\n",
              "      <th>Statistics</th>\n",
              "      <th>Quantitative Biology</th>\n",
              "      <th>Quantitative Finance</th>\n",
              "      <th>labels</th>\n",
              "    </tr>\n",
              "  </thead>\n",
              "  <tbody>\n",
              "    <tr>\n",
              "      <th>0</th>\n",
              "      <td>chemgan challenge for drug discovery can ai re...</td>\n",
              "      <td>generating molecules with desired chemical pr...</td>\n",
              "      <td>1</td>\n",
              "      <td>0</td>\n",
              "      <td>0</td>\n",
              "      <td>1</td>\n",
              "      <td>0</td>\n",
              "      <td>0</td>\n",
              "      <td>Computer Science,Statistics</td>\n",
              "    </tr>\n",
              "    <tr>\n",
              "      <th>1</th>\n",
              "      <td>hybrid graphene tunneling photoconductor with ...</td>\n",
              "      <td>hybrid graphene photoconductor phototransisto...</td>\n",
              "      <td>0</td>\n",
              "      <td>1</td>\n",
              "      <td>0</td>\n",
              "      <td>0</td>\n",
              "      <td>0</td>\n",
              "      <td>0</td>\n",
              "      <td>Physics</td>\n",
              "    </tr>\n",
              "    <tr>\n",
              "      <th>2</th>\n",
              "      <td>temperature dependence of magnetic excitations...</td>\n",
              "      <td>when an ordered spin system of given dimensio...</td>\n",
              "      <td>0</td>\n",
              "      <td>1</td>\n",
              "      <td>0</td>\n",
              "      <td>0</td>\n",
              "      <td>0</td>\n",
              "      <td>0</td>\n",
              "      <td>Physics</td>\n",
              "    </tr>\n",
              "    <tr>\n",
              "      <th>3</th>\n",
              "      <td>a las vegas algorithm to solve the elliptic cu...</td>\n",
              "      <td>in this paper we describe new las vegas algor...</td>\n",
              "      <td>1</td>\n",
              "      <td>0</td>\n",
              "      <td>1</td>\n",
              "      <td>0</td>\n",
              "      <td>0</td>\n",
              "      <td>0</td>\n",
              "      <td>Computer Science,Mathematics</td>\n",
              "    </tr>\n",
              "    <tr>\n",
              "      <th>4</th>\n",
              "      <td>comparing simulations and test data of radiati...</td>\n",
              "      <td>the vis instrument on board the euclid missio...</td>\n",
              "      <td>0</td>\n",
              "      <td>1</td>\n",
              "      <td>0</td>\n",
              "      <td>0</td>\n",
              "      <td>0</td>\n",
              "      <td>0</td>\n",
              "      <td>Physics</td>\n",
              "    </tr>\n",
              "  </tbody>\n",
              "</table>\n",
              "</div>"
            ],
            "text/plain": [
              "                                               TITLE  \\\n",
              "0  chemgan challenge for drug discovery can ai re...   \n",
              "1  hybrid graphene tunneling photoconductor with ...   \n",
              "2  temperature dependence of magnetic excitations...   \n",
              "3  a las vegas algorithm to solve the elliptic cu...   \n",
              "4  comparing simulations and test data of radiati...   \n",
              "\n",
              "                                            ABSTRACT  Computer Science  \\\n",
              "0   generating molecules with desired chemical pr...                 1   \n",
              "1   hybrid graphene photoconductor phototransisto...                 0   \n",
              "2   when an ordered spin system of given dimensio...                 0   \n",
              "3   in this paper we describe new las vegas algor...                 1   \n",
              "4   the vis instrument on board the euclid missio...                 0   \n",
              "\n",
              "   Physics  Mathematics  Statistics  Quantitative Biology  \\\n",
              "0        0            0           1                     0   \n",
              "1        1            0           0                     0   \n",
              "2        1            0           0                     0   \n",
              "3        0            1           0                     0   \n",
              "4        1            0           0                     0   \n",
              "\n",
              "   Quantitative Finance                        labels  \n",
              "0                     0   Computer Science,Statistics  \n",
              "1                     0                       Physics  \n",
              "2                     0                       Physics  \n",
              "3                     0  Computer Science,Mathematics  \n",
              "4                     0                       Physics  "
            ]
          },
          "metadata": {
            "tags": []
          },
          "execution_count": 5
        }
      ]
    },
    {
      "cell_type": "code",
      "metadata": {
        "id": "8xvmWlB2fhDO",
        "outputId": "b631e16c-b0df-48f8-afd7-5fe75ab8fd6c"
      },
      "source": [
        "y = train_data[train_data.columns[2:]]\n",
        "y.head()"
      ],
      "execution_count": null,
      "outputs": [
        {
          "output_type": "execute_result",
          "data": {
            "text/html": [
              "<div>\n",
              "<style scoped>\n",
              "    .dataframe tbody tr th:only-of-type {\n",
              "        vertical-align: middle;\n",
              "    }\n",
              "\n",
              "    .dataframe tbody tr th {\n",
              "        vertical-align: top;\n",
              "    }\n",
              "\n",
              "    .dataframe thead th {\n",
              "        text-align: right;\n",
              "    }\n",
              "</style>\n",
              "<table border=\"1\" class=\"dataframe\">\n",
              "  <thead>\n",
              "    <tr style=\"text-align: right;\">\n",
              "      <th></th>\n",
              "      <th>Computer Science</th>\n",
              "      <th>Physics</th>\n",
              "      <th>Mathematics</th>\n",
              "      <th>Statistics</th>\n",
              "      <th>Quantitative Biology</th>\n",
              "      <th>Quantitative Finance</th>\n",
              "      <th>labels</th>\n",
              "    </tr>\n",
              "  </thead>\n",
              "  <tbody>\n",
              "    <tr>\n",
              "      <th>0</th>\n",
              "      <td>1</td>\n",
              "      <td>0</td>\n",
              "      <td>0</td>\n",
              "      <td>1</td>\n",
              "      <td>0</td>\n",
              "      <td>0</td>\n",
              "      <td>Computer Science,Statistics</td>\n",
              "    </tr>\n",
              "    <tr>\n",
              "      <th>1</th>\n",
              "      <td>0</td>\n",
              "      <td>1</td>\n",
              "      <td>0</td>\n",
              "      <td>0</td>\n",
              "      <td>0</td>\n",
              "      <td>0</td>\n",
              "      <td>Physics</td>\n",
              "    </tr>\n",
              "    <tr>\n",
              "      <th>2</th>\n",
              "      <td>0</td>\n",
              "      <td>1</td>\n",
              "      <td>0</td>\n",
              "      <td>0</td>\n",
              "      <td>0</td>\n",
              "      <td>0</td>\n",
              "      <td>Physics</td>\n",
              "    </tr>\n",
              "    <tr>\n",
              "      <th>3</th>\n",
              "      <td>1</td>\n",
              "      <td>0</td>\n",
              "      <td>1</td>\n",
              "      <td>0</td>\n",
              "      <td>0</td>\n",
              "      <td>0</td>\n",
              "      <td>Computer Science,Mathematics</td>\n",
              "    </tr>\n",
              "    <tr>\n",
              "      <th>4</th>\n",
              "      <td>0</td>\n",
              "      <td>1</td>\n",
              "      <td>0</td>\n",
              "      <td>0</td>\n",
              "      <td>0</td>\n",
              "      <td>0</td>\n",
              "      <td>Physics</td>\n",
              "    </tr>\n",
              "  </tbody>\n",
              "</table>\n",
              "</div>"
            ],
            "text/plain": [
              "   Computer Science  Physics  Mathematics  Statistics  Quantitative Biology  \\\n",
              "0                 1        0            0           1                     0   \n",
              "1                 0        1            0           0                     0   \n",
              "2                 0        1            0           0                     0   \n",
              "3                 1        0            1           0                     0   \n",
              "4                 0        1            0           0                     0   \n",
              "\n",
              "   Quantitative Finance                        labels  \n",
              "0                     0   Computer Science,Statistics  \n",
              "1                     0                       Physics  \n",
              "2                     0                       Physics  \n",
              "3                     0  Computer Science,Mathematics  \n",
              "4                     0                       Physics  "
            ]
          },
          "metadata": {
            "tags": []
          },
          "execution_count": 6
        }
      ]
    },
    {
      "cell_type": "code",
      "metadata": {
        "id": "_sNq_67MQ750"
      },
      "source": [
        "train_data.drop(columns = train_data.columns[2:], inplace=True)"
      ],
      "execution_count": null,
      "outputs": []
    },
    {
      "cell_type": "code",
      "metadata": {
        "id": "5m8bzAKof55J"
      },
      "source": [
        "X_train, X_test, y_train, y_test = train_test_split(train_data, y, test_size=0.20, random_state=42)"
      ],
      "execution_count": null,
      "outputs": []
    },
    {
      "cell_type": "code",
      "metadata": {
        "id": "ZEV25C_JgEsH"
      },
      "source": [
        "# First output\n",
        "y1_train = y_train[[\"Computer Science\"]].values\n",
        "y1_test =  y_test[[\"Computer Science\"]].values\n",
        "\n",
        "# Second output\n",
        "y2_train = y_train[[\"Physics\"]].values\n",
        "y2_test =  y_test[[\"Physics\"]].values\n",
        "\n",
        "# Third output\n",
        "y3_train = y_train[[\"Mathematics\"]].values\n",
        "y3_test =  y_test[[\"Mathematics\"]].values\n",
        "\n",
        "# Fourth output\n",
        "y4_train = y_train[[\"Statistics\"]].values\n",
        "y4_test =  y_test[[\"Statistics\"]].values\n",
        "\n",
        "# Fifth output\n",
        "y5_train = y_train[[\"Quantitative Biology\"]].values\n",
        "y5_test =  y_test[[\"Quantitative Biology\"]].values\n",
        "\n",
        "# Sixth output\n",
        "y6_train = y_train[[\"Quantitative Finance\"]].values\n",
        "y6_test =  y_test[[\"Quantitative Finance\"]].values"
      ],
      "execution_count": null,
      "outputs": []
    },
    {
      "cell_type": "code",
      "metadata": {
        "id": "wgsNax4XgtZe"
      },
      "source": [
        "tokenizer_title = Tokenizer(num_words=50)\n",
        "tokenizer_abs = Tokenizer(num_words=50)\n",
        "\n",
        "tokenizer_title.fit_on_texts(X_train['TITLE'])\n",
        "tokenizer_abs.fit_on_texts(X_train['ABSTRACT'])\n",
        "\n",
        "X_train_title = tokenizer_title.texts_to_sequences(X_train['TITLE'])\n",
        "X_test_title = tokenizer_title.texts_to_sequences(X_test['TITLE'])\n",
        "\n",
        "X_train_abs = tokenizer_abs.texts_to_sequences(X_train['ABSTRACT'])\n",
        "X_test_abs = tokenizer_abs.texts_to_sequences(X_test['ABSTRACT'])\n",
        "\n",
        "title_vocab_size = len(tokenizer_title.word_index) + 1\n",
        "asb_vocab_size = len(tokenizer_abs.word_index) + 1\n",
        "\n",
        "max_features = 10000\n",
        "maxlen = 100\n",
        "\n",
        "X_train_title = pad_sequences(X_train_title, maxlen=maxlen)\n",
        "X_test_title = pad_sequences(X_test_title, maxlen=maxlen)\n",
        "\n",
        "X_train_abs = pad_sequences(X_train_abs, maxlen= maxlen)\n",
        "X_test_abs = pad_sequences(X_test_abs, maxlen = maxlen)"
      ],
      "execution_count": null,
      "outputs": []
    },
    {
      "cell_type": "code",
      "metadata": {
        "id": "eLcF_sVWQ751",
        "outputId": "2b584872-4fa9-4e94-a9fd-e2451e85ed63"
      },
      "source": [
        "X_train_abs.shape"
      ],
      "execution_count": null,
      "outputs": [
        {
          "output_type": "execute_result",
          "data": {
            "text/plain": [
              "(13600, 100)"
            ]
          },
          "metadata": {
            "tags": []
          },
          "execution_count": 70
        }
      ]
    },
    {
      "cell_type": "code",
      "metadata": {
        "id": "oeUBcb6dg44H",
        "outputId": "3c73309e-04d4-4c07-9112-2c901a9f44ba"
      },
      "source": [
        "embeddings_index = {}\n",
        "with open('glove.6B.100d.txt', encoding = 'utf8') as f:\n",
        "    for line in f:\n",
        "        word, coefs = line.split(maxsplit=1)\n",
        "        coefs = np.fromstring(coefs, \"f\", sep=\" \")\n",
        "        embeddings_index[word] = coefs\n",
        "\n",
        "print(\"Found %s word vectors.\" % len(embeddings_index))"
      ],
      "execution_count": null,
      "outputs": [
        {
          "output_type": "stream",
          "text": [
            "Found 400000 word vectors.\n"
          ],
          "name": "stdout"
        }
      ]
    },
    {
      "cell_type": "code",
      "metadata": {
        "id": "Axqhf-yLQ751",
        "outputId": "492a3f67-2089-4308-e3b9-6b384debeb89"
      },
      "source": [
        "num_tokens = title_vocab_size\n",
        "embedding_dim = 100\n",
        "hits = 0\n",
        "misses = 0\n",
        "\n",
        "# Prepare embedding matrix\n",
        "embedding_matrix = np.zeros((num_tokens, embedding_dim))\n",
        "for word, i in word_index.items():\n",
        "    embedding_vector = embeddings_index.get(word)\n",
        "    if embedding_vector is not None:\n",
        "        # Words not found in embedding index will be all-zeros.\n",
        "        # This includes the representation for \"padding\" and \"OOV\"\n",
        "        embedding_matrix[i] = embedding_vector\n",
        "        hits += 1\n",
        "    else:\n",
        "        misses += 1\n",
        "print(\"Converted %d words (%d misses)\" % (hits, misses))"
      ],
      "execution_count": null,
      "outputs": [
        {
          "output_type": "stream",
          "text": [
            "Converted 2 words (0 misses)\n"
          ],
          "name": "stdout"
        }
      ]
    },
    {
      "cell_type": "code",
      "metadata": {
        "id": "fv2-JgoGhB5v"
      },
      "source": [
        "input_1 = Input(shape=(maxlen,))\n",
        "embedding_layer = Embedding(title_vocab_size, 100, weights=[embedding_matrix], trainable=False)(input_1)\n",
        "LSTM_Layer1 = LSTM(128)(embedding_layer)\n",
        "\n",
        "output1 = Dense(1, activation='sigmoid')(LSTM_Layer1)\n",
        "output2 = Dense(1, activation='sigmoid')(LSTM_Layer1)\n",
        "output3 = Dense(1, activation='sigmoid')(LSTM_Layer1)\n",
        "output4 = Dense(1, activation='sigmoid')(LSTM_Layer1)\n",
        "output5 = Dense(1, activation='sigmoid')(LSTM_Layer1)\n",
        "output6 = Dense(1, activation='sigmoid')(LSTM_Layer1)\n",
        "\n",
        "model = Model(inputs=input_1, outputs=[output1, output2, output3, output4, output5, output6])\n",
        "model.compile(loss='binary_crossentropy', optimizer='adam', metrics=['acc'])"
      ],
      "execution_count": null,
      "outputs": []
    },
    {
      "cell_type": "code",
      "metadata": {
        "id": "HHbgCyBRhIzg",
        "scrolled": true,
        "outputId": "5e36e796-a448-48c0-a710-7989d723ab13"
      },
      "source": [
        "print(model.summary())"
      ],
      "execution_count": null,
      "outputs": [
        {
          "output_type": "stream",
          "text": [
            "Model: \"functional_3\"\n",
            "__________________________________________________________________________________________________\n",
            "Layer (type)                    Output Shape         Param #     Connected to                     \n",
            "==================================================================================================\n",
            "input_4 (InputLayer)            [(None, 100)]        0                                            \n",
            "__________________________________________________________________________________________________\n",
            "embedding_3 (Embedding)         (None, 100, 100)     1488400     input_4[0][0]                    \n",
            "__________________________________________________________________________________________________\n",
            "lstm_1 (LSTM)                   (None, 128)          117248      embedding_3[0][0]                \n",
            "__________________________________________________________________________________________________\n",
            "dense_6 (Dense)                 (None, 1)            129         lstm_1[0][0]                     \n",
            "__________________________________________________________________________________________________\n",
            "dense_7 (Dense)                 (None, 1)            129         lstm_1[0][0]                     \n",
            "__________________________________________________________________________________________________\n",
            "dense_8 (Dense)                 (None, 1)            129         lstm_1[0][0]                     \n",
            "__________________________________________________________________________________________________\n",
            "dense_9 (Dense)                 (None, 1)            129         lstm_1[0][0]                     \n",
            "__________________________________________________________________________________________________\n",
            "dense_10 (Dense)                (None, 1)            129         lstm_1[0][0]                     \n",
            "__________________________________________________________________________________________________\n",
            "dense_11 (Dense)                (None, 1)            129         lstm_1[0][0]                     \n",
            "==================================================================================================\n",
            "Total params: 1,606,422\n",
            "Trainable params: 118,022\n",
            "Non-trainable params: 1,488,400\n",
            "__________________________________________________________________________________________________\n",
            "None\n"
          ],
          "name": "stdout"
        }
      ]
    },
    {
      "cell_type": "code",
      "metadata": {
        "id": "6m01MXkNQ752"
      },
      "source": [
        "callbacks = [ModelCheckpoint('internship/model.h5', save_best_only=True, save_weights_only=False)]"
      ],
      "execution_count": null,
      "outputs": []
    },
    {
      "cell_type": "code",
      "metadata": {
        "id": "M6gI2ofEhLsx",
        "outputId": "cc325efb-030e-44c4-8f21-8d7ae21cbffe"
      },
      "source": [
        "history = model.fit(x=X_train_title, y=[y1_train, y2_train, y3_train, y4_train, y5_train, y6_train], batch_size=128, epochs=5, verbose=1, validation_split=0.2)"
      ],
      "execution_count": null,
      "outputs": [
        {
          "output_type": "stream",
          "text": [
            "Epoch 1/5\n",
            "85/85 [==============================] - 2s 26ms/step - loss: 2.7457 - dense_6_loss: 0.6701 - dense_7_loss: 0.6042 - dense_8_loss: 0.5895 - dense_9_loss: 0.5670 - dense_10_loss: 0.1854 - dense_11_loss: 0.1295 - dense_6_acc: 0.5832 - dense_7_acc: 0.7059 - dense_8_acc: 0.7324 - dense_9_acc: 0.7494 - dense_10_acc: 0.9676 - dense_11_acc: 0.9843 - val_loss: 2.5800 - val_dense_6_loss: 0.6583 - val_dense_7_loss: 0.5958 - val_dense_8_loss: 0.5649 - val_dense_9_loss: 0.5559 - val_dense_10_loss: 0.1401 - val_dense_11_loss: 0.0650 - val_dense_6_acc: 0.5882 - val_dense_7_acc: 0.7063 - val_dense_8_acc: 0.7423 - val_dense_9_acc: 0.7478 - val_dense_10_acc: 0.9688 - val_dense_11_acc: 0.9882\n",
            "Epoch 2/5\n",
            "85/85 [==============================] - 1s 17ms/step - loss: 2.5548 - dense_6_loss: 0.6591 - dense_7_loss: 0.5858 - dense_8_loss: 0.5720 - dense_9_loss: 0.5490 - dense_10_loss: 0.1237 - dense_11_loss: 0.0652 - dense_6_acc: 0.5930 - dense_7_acc: 0.7144 - dense_8_acc: 0.7323 - dense_9_acc: 0.7495 - dense_10_acc: 0.9733 - dense_11_acc: 0.9881 - val_loss: 2.5735 - val_dense_6_loss: 0.6575 - val_dense_7_loss: 0.5940 - val_dense_8_loss: 0.5677 - val_dense_9_loss: 0.5505 - val_dense_10_loss: 0.1396 - val_dense_11_loss: 0.0644 - val_dense_6_acc: 0.5882 - val_dense_7_acc: 0.7044 - val_dense_8_acc: 0.7423 - val_dense_9_acc: 0.7478 - val_dense_10_acc: 0.9688 - val_dense_11_acc: 0.9882\n",
            "Epoch 3/5\n",
            "85/85 [==============================] - 2s 18ms/step - loss: 2.5514 - dense_6_loss: 0.6593 - dense_7_loss: 0.5848 - dense_8_loss: 0.5706 - dense_9_loss: 0.5484 - dense_10_loss: 0.1233 - dense_11_loss: 0.0650 - dense_6_acc: 0.5939 - dense_7_acc: 0.7143 - dense_8_acc: 0.7318 - dense_9_acc: 0.7495 - dense_10_acc: 0.9733 - dense_11_acc: 0.9881 - val_loss: 2.5788 - val_dense_6_loss: 0.6589 - val_dense_7_loss: 0.5984 - val_dense_8_loss: 0.5661 - val_dense_9_loss: 0.5515 - val_dense_10_loss: 0.1396 - val_dense_11_loss: 0.0643 - val_dense_6_acc: 0.5875 - val_dense_7_acc: 0.7063 - val_dense_8_acc: 0.7419 - val_dense_9_acc: 0.7478 - val_dense_10_acc: 0.9688 - val_dense_11_acc: 0.9882\n",
            "Epoch 4/5\n",
            "85/85 [==============================] - 1s 18ms/step - loss: 2.5514 - dense_6_loss: 0.6595 - dense_7_loss: 0.5844 - dense_8_loss: 0.5702 - dense_9_loss: 0.5495 - dense_10_loss: 0.1230 - dense_11_loss: 0.0649 - dense_6_acc: 0.5985 - dense_7_acc: 0.7127 - dense_8_acc: 0.7333 - dense_9_acc: 0.7495 - dense_10_acc: 0.9733 - dense_11_acc: 0.9881 - val_loss: 2.5754 - val_dense_6_loss: 0.6577 - val_dense_7_loss: 0.5940 - val_dense_8_loss: 0.5640 - val_dense_9_loss: 0.5563 - val_dense_10_loss: 0.1393 - val_dense_11_loss: 0.0642 - val_dense_6_acc: 0.5875 - val_dense_7_acc: 0.7081 - val_dense_8_acc: 0.7423 - val_dense_9_acc: 0.7478 - val_dense_10_acc: 0.9688 - val_dense_11_acc: 0.9882\n",
            "Epoch 5/5\n",
            "85/85 [==============================] - 1s 17ms/step - loss: 2.5476 - dense_6_loss: 0.6583 - dense_7_loss: 0.5850 - dense_8_loss: 0.5694 - dense_9_loss: 0.5471 - dense_10_loss: 0.1229 - dense_11_loss: 0.0648 - dense_6_acc: 0.5923 - dense_7_acc: 0.7148 - dense_8_acc: 0.7316 - dense_9_acc: 0.7495 - dense_10_acc: 0.9733 - dense_11_acc: 0.9881 - val_loss: 2.5789 - val_dense_6_loss: 0.6590 - val_dense_7_loss: 0.5966 - val_dense_8_loss: 0.5679 - val_dense_9_loss: 0.5504 - val_dense_10_loss: 0.1407 - val_dense_11_loss: 0.0642 - val_dense_6_acc: 0.5875 - val_dense_7_acc: 0.7066 - val_dense_8_acc: 0.7419 - val_dense_9_acc: 0.7478 - val_dense_10_acc: 0.9688 - val_dense_11_acc: 0.9882\n"
          ],
          "name": "stdout"
        }
      ]
    },
    {
      "cell_type": "code",
      "metadata": {
        "id": "wZ94QuJxhTNL",
        "outputId": "36a49d36-433b-4060-ce04-28762800b255"
      },
      "source": [
        "score = model.evaluate(x=X_test_title, y=[y1_test, y2_test, y3_test, y4_test, y5_test, y6_test], verbose=1)\n",
        "\n",
        "print(\"Test Score:\", score[0])\n",
        "print(\"Test Accuracy:\", score[1])"
      ],
      "execution_count": null,
      "outputs": [
        {
          "output_type": "stream",
          "text": [
            "107/107 [==============================] - 1s 7ms/step - loss: 2.5675 - dense_6_loss: 0.6599 - dense_7_loss: 0.5893 - dense_8_loss: 0.5735 - dense_9_loss: 0.5429 - dense_10_loss: 0.1326 - dense_11_loss: 0.0692 - dense_6_acc: 0.5965 - dense_7_acc: 0.7129 - dense_8_acc: 0.7306 - dense_9_acc: 0.7565 - dense_10_acc: 0.9709 - dense_11_acc: 0.9871\n",
            "Test Score: 2.567455291748047\n",
            "Test Accuracy: 0.6599200367927551\n"
          ],
          "name": "stdout"
        }
      ]
    },
    {
      "cell_type": "code",
      "metadata": {
        "id": "IMAoD_smQ752"
      },
      "source": [
        "# test data\n",
        "test_data = pd.read_csv('internship/TEST.csv')"
      ],
      "execution_count": null,
      "outputs": []
    },
    {
      "cell_type": "code",
      "metadata": {
        "id": "BM_HphBrQ752"
      },
      "source": [
        "test_data['TITLE'] = test_data['TITLE'].apply(lambda x: preprocess_text(x))\n",
        "test_data['ABSTRACT'] = test_data['ABSTRACT'].apply(lambda x: preprocess_text(x))"
      ],
      "execution_count": null,
      "outputs": []
    },
    {
      "cell_type": "code",
      "metadata": {
        "id": "7ILt-DAEQ752"
      },
      "source": [
        "test_title = tokenizer_title.texts_to_sequences(test_data.TITLE)\n",
        "test_title = pad_sequences(test_title, maxlen=maxlen)"
      ],
      "execution_count": null,
      "outputs": []
    },
    {
      "cell_type": "code",
      "metadata": {
        "id": "uWBCpJPoQ752"
      },
      "source": [
        "prediction = model.predict(test_title)"
      ],
      "execution_count": null,
      "outputs": []
    },
    {
      "cell_type": "code",
      "metadata": {
        "id": "taIAyj8RQ752"
      },
      "source": [
        "pred_df = pd.DataFrame(data = prediction[0])\n",
        "for i in range(1,6,1):\n",
        "    pred_df = pd.concat([pred_df, pd.DataFrame(prediction[i])], axis=1)\n",
        "pred_df.columns = y.columns[:-1]"
      ],
      "execution_count": null,
      "outputs": []
    },
    {
      "cell_type": "code",
      "metadata": {
        "id": "pPFqPmETQ752",
        "outputId": "e934f902-6546-4464-e503-a8dcc29c5238"
      },
      "source": [
        "pred_df"
      ],
      "execution_count": null,
      "outputs": [
        {
          "output_type": "execute_result",
          "data": {
            "text/html": [
              "<div>\n",
              "<style scoped>\n",
              "    .dataframe tbody tr th:only-of-type {\n",
              "        vertical-align: middle;\n",
              "    }\n",
              "\n",
              "    .dataframe tbody tr th {\n",
              "        vertical-align: top;\n",
              "    }\n",
              "\n",
              "    .dataframe thead th {\n",
              "        text-align: right;\n",
              "    }\n",
              "</style>\n",
              "<table border=\"1\" class=\"dataframe\">\n",
              "  <thead>\n",
              "    <tr style=\"text-align: right;\">\n",
              "      <th></th>\n",
              "      <th>Computer Science</th>\n",
              "      <th>Physics</th>\n",
              "      <th>Mathematics</th>\n",
              "      <th>Statistics</th>\n",
              "      <th>Quantitative Biology</th>\n",
              "      <th>Quantitative Finance</th>\n",
              "    </tr>\n",
              "  </thead>\n",
              "  <tbody>\n",
              "    <tr>\n",
              "      <th>0</th>\n",
              "      <td>0.270186</td>\n",
              "      <td>0.430124</td>\n",
              "      <td>0.267226</td>\n",
              "      <td>0.191431</td>\n",
              "      <td>0.029509</td>\n",
              "      <td>0.013025</td>\n",
              "    </tr>\n",
              "    <tr>\n",
              "      <th>1</th>\n",
              "      <td>0.303598</td>\n",
              "      <td>0.302630</td>\n",
              "      <td>0.364836</td>\n",
              "      <td>0.180323</td>\n",
              "      <td>0.028336</td>\n",
              "      <td>0.012648</td>\n",
              "    </tr>\n",
              "    <tr>\n",
              "      <th>2</th>\n",
              "      <td>0.290876</td>\n",
              "      <td>0.367787</td>\n",
              "      <td>0.332572</td>\n",
              "      <td>0.160505</td>\n",
              "      <td>0.023617</td>\n",
              "      <td>0.012312</td>\n",
              "    </tr>\n",
              "    <tr>\n",
              "      <th>3</th>\n",
              "      <td>0.476332</td>\n",
              "      <td>0.214555</td>\n",
              "      <td>0.249154</td>\n",
              "      <td>0.320579</td>\n",
              "      <td>0.019058</td>\n",
              "      <td>0.013845</td>\n",
              "    </tr>\n",
              "    <tr>\n",
              "      <th>4</th>\n",
              "      <td>0.270186</td>\n",
              "      <td>0.430124</td>\n",
              "      <td>0.267226</td>\n",
              "      <td>0.191431</td>\n",
              "      <td>0.029509</td>\n",
              "      <td>0.013025</td>\n",
              "    </tr>\n",
              "    <tr>\n",
              "      <th>...</th>\n",
              "      <td>...</td>\n",
              "      <td>...</td>\n",
              "      <td>...</td>\n",
              "      <td>...</td>\n",
              "      <td>...</td>\n",
              "      <td>...</td>\n",
              "    </tr>\n",
              "    <tr>\n",
              "      <th>3967</th>\n",
              "      <td>0.213361</td>\n",
              "      <td>0.290097</td>\n",
              "      <td>0.488704</td>\n",
              "      <td>0.102248</td>\n",
              "      <td>0.027390</td>\n",
              "      <td>0.011009</td>\n",
              "    </tr>\n",
              "    <tr>\n",
              "      <th>3968</th>\n",
              "      <td>0.321736</td>\n",
              "      <td>0.380576</td>\n",
              "      <td>0.265619</td>\n",
              "      <td>0.223622</td>\n",
              "      <td>0.026535</td>\n",
              "      <td>0.013542</td>\n",
              "    </tr>\n",
              "    <tr>\n",
              "      <th>3969</th>\n",
              "      <td>0.231982</td>\n",
              "      <td>0.325794</td>\n",
              "      <td>0.408305</td>\n",
              "      <td>0.132549</td>\n",
              "      <td>0.032461</td>\n",
              "      <td>0.012412</td>\n",
              "    </tr>\n",
              "    <tr>\n",
              "      <th>3970</th>\n",
              "      <td>0.321736</td>\n",
              "      <td>0.380576</td>\n",
              "      <td>0.265619</td>\n",
              "      <td>0.223622</td>\n",
              "      <td>0.026535</td>\n",
              "      <td>0.013542</td>\n",
              "    </tr>\n",
              "    <tr>\n",
              "      <th>3971</th>\n",
              "      <td>0.358091</td>\n",
              "      <td>0.281404</td>\n",
              "      <td>0.296104</td>\n",
              "      <td>0.212343</td>\n",
              "      <td>0.025447</td>\n",
              "      <td>0.014337</td>\n",
              "    </tr>\n",
              "  </tbody>\n",
              "</table>\n",
              "<p>3972 rows × 6 columns</p>\n",
              "</div>"
            ],
            "text/plain": [
              "      Computer Science   Physics  Mathematics  Statistics  \\\n",
              "0             0.270186  0.430124     0.267226    0.191431   \n",
              "1             0.303598  0.302630     0.364836    0.180323   \n",
              "2             0.290876  0.367787     0.332572    0.160505   \n",
              "3             0.476332  0.214555     0.249154    0.320579   \n",
              "4             0.270186  0.430124     0.267226    0.191431   \n",
              "...                ...       ...          ...         ...   \n",
              "3967          0.213361  0.290097     0.488704    0.102248   \n",
              "3968          0.321736  0.380576     0.265619    0.223622   \n",
              "3969          0.231982  0.325794     0.408305    0.132549   \n",
              "3970          0.321736  0.380576     0.265619    0.223622   \n",
              "3971          0.358091  0.281404     0.296104    0.212343   \n",
              "\n",
              "      Quantitative Biology  Quantitative Finance  \n",
              "0                 0.029509              0.013025  \n",
              "1                 0.028336              0.012648  \n",
              "2                 0.023617              0.012312  \n",
              "3                 0.019058              0.013845  \n",
              "4                 0.029509              0.013025  \n",
              "...                    ...                   ...  \n",
              "3967              0.027390              0.011009  \n",
              "3968              0.026535              0.013542  \n",
              "3969              0.032461              0.012412  \n",
              "3970              0.026535              0.013542  \n",
              "3971              0.025447              0.014337  \n",
              "\n",
              "[3972 rows x 6 columns]"
            ]
          },
          "metadata": {
            "tags": []
          },
          "execution_count": 166
        }
      ]
    },
    {
      "cell_type": "code",
      "metadata": {
        "id": "LC9t0ThmQ753"
      },
      "source": [
        "labels = y.columns[:-1]\n",
        "\n",
        "pred_df['labels'] = [labels[np.argmax(pred_df.iloc[i])] for i in range(pred_df.shape[0])]"
      ],
      "execution_count": null,
      "outputs": []
    },
    {
      "cell_type": "code",
      "metadata": {
        "id": "-QlXk6EIQ753",
        "outputId": "4034a8f9-1610-42c2-fd4f-a5076edc8ad9"
      },
      "source": [
        "pred_df"
      ],
      "execution_count": null,
      "outputs": [
        {
          "output_type": "execute_result",
          "data": {
            "text/html": [
              "<div>\n",
              "<style scoped>\n",
              "    .dataframe tbody tr th:only-of-type {\n",
              "        vertical-align: middle;\n",
              "    }\n",
              "\n",
              "    .dataframe tbody tr th {\n",
              "        vertical-align: top;\n",
              "    }\n",
              "\n",
              "    .dataframe thead th {\n",
              "        text-align: right;\n",
              "    }\n",
              "</style>\n",
              "<table border=\"1\" class=\"dataframe\">\n",
              "  <thead>\n",
              "    <tr style=\"text-align: right;\">\n",
              "      <th></th>\n",
              "      <th>Computer Science</th>\n",
              "      <th>Physics</th>\n",
              "      <th>Mathematics</th>\n",
              "      <th>Statistics</th>\n",
              "      <th>Quantitative Biology</th>\n",
              "      <th>Quantitative Finance</th>\n",
              "      <th>labels</th>\n",
              "    </tr>\n",
              "  </thead>\n",
              "  <tbody>\n",
              "    <tr>\n",
              "      <th>0</th>\n",
              "      <td>0.270186</td>\n",
              "      <td>0.430124</td>\n",
              "      <td>0.267226</td>\n",
              "      <td>0.191431</td>\n",
              "      <td>0.029509</td>\n",
              "      <td>0.013025</td>\n",
              "      <td>Physics</td>\n",
              "    </tr>\n",
              "    <tr>\n",
              "      <th>1</th>\n",
              "      <td>0.303598</td>\n",
              "      <td>0.302630</td>\n",
              "      <td>0.364836</td>\n",
              "      <td>0.180323</td>\n",
              "      <td>0.028336</td>\n",
              "      <td>0.012648</td>\n",
              "      <td>Mathematics</td>\n",
              "    </tr>\n",
              "    <tr>\n",
              "      <th>2</th>\n",
              "      <td>0.290876</td>\n",
              "      <td>0.367787</td>\n",
              "      <td>0.332572</td>\n",
              "      <td>0.160505</td>\n",
              "      <td>0.023617</td>\n",
              "      <td>0.012312</td>\n",
              "      <td>Physics</td>\n",
              "    </tr>\n",
              "    <tr>\n",
              "      <th>3</th>\n",
              "      <td>0.476332</td>\n",
              "      <td>0.214555</td>\n",
              "      <td>0.249154</td>\n",
              "      <td>0.320579</td>\n",
              "      <td>0.019058</td>\n",
              "      <td>0.013845</td>\n",
              "      <td>Computer Science</td>\n",
              "    </tr>\n",
              "    <tr>\n",
              "      <th>4</th>\n",
              "      <td>0.270186</td>\n",
              "      <td>0.430124</td>\n",
              "      <td>0.267226</td>\n",
              "      <td>0.191431</td>\n",
              "      <td>0.029509</td>\n",
              "      <td>0.013025</td>\n",
              "      <td>Physics</td>\n",
              "    </tr>\n",
              "    <tr>\n",
              "      <th>...</th>\n",
              "      <td>...</td>\n",
              "      <td>...</td>\n",
              "      <td>...</td>\n",
              "      <td>...</td>\n",
              "      <td>...</td>\n",
              "      <td>...</td>\n",
              "      <td>...</td>\n",
              "    </tr>\n",
              "    <tr>\n",
              "      <th>3967</th>\n",
              "      <td>0.213361</td>\n",
              "      <td>0.290097</td>\n",
              "      <td>0.488704</td>\n",
              "      <td>0.102248</td>\n",
              "      <td>0.027390</td>\n",
              "      <td>0.011009</td>\n",
              "      <td>Mathematics</td>\n",
              "    </tr>\n",
              "    <tr>\n",
              "      <th>3968</th>\n",
              "      <td>0.321736</td>\n",
              "      <td>0.380576</td>\n",
              "      <td>0.265619</td>\n",
              "      <td>0.223622</td>\n",
              "      <td>0.026535</td>\n",
              "      <td>0.013542</td>\n",
              "      <td>Physics</td>\n",
              "    </tr>\n",
              "    <tr>\n",
              "      <th>3969</th>\n",
              "      <td>0.231982</td>\n",
              "      <td>0.325794</td>\n",
              "      <td>0.408305</td>\n",
              "      <td>0.132549</td>\n",
              "      <td>0.032461</td>\n",
              "      <td>0.012412</td>\n",
              "      <td>Mathematics</td>\n",
              "    </tr>\n",
              "    <tr>\n",
              "      <th>3970</th>\n",
              "      <td>0.321736</td>\n",
              "      <td>0.380576</td>\n",
              "      <td>0.265619</td>\n",
              "      <td>0.223622</td>\n",
              "      <td>0.026535</td>\n",
              "      <td>0.013542</td>\n",
              "      <td>Physics</td>\n",
              "    </tr>\n",
              "    <tr>\n",
              "      <th>3971</th>\n",
              "      <td>0.358091</td>\n",
              "      <td>0.281404</td>\n",
              "      <td>0.296104</td>\n",
              "      <td>0.212343</td>\n",
              "      <td>0.025447</td>\n",
              "      <td>0.014337</td>\n",
              "      <td>Computer Science</td>\n",
              "    </tr>\n",
              "  </tbody>\n",
              "</table>\n",
              "<p>3972 rows × 7 columns</p>\n",
              "</div>"
            ],
            "text/plain": [
              "      Computer Science   Physics  Mathematics  Statistics  \\\n",
              "0             0.270186  0.430124     0.267226    0.191431   \n",
              "1             0.303598  0.302630     0.364836    0.180323   \n",
              "2             0.290876  0.367787     0.332572    0.160505   \n",
              "3             0.476332  0.214555     0.249154    0.320579   \n",
              "4             0.270186  0.430124     0.267226    0.191431   \n",
              "...                ...       ...          ...         ...   \n",
              "3967          0.213361  0.290097     0.488704    0.102248   \n",
              "3968          0.321736  0.380576     0.265619    0.223622   \n",
              "3969          0.231982  0.325794     0.408305    0.132549   \n",
              "3970          0.321736  0.380576     0.265619    0.223622   \n",
              "3971          0.358091  0.281404     0.296104    0.212343   \n",
              "\n",
              "      Quantitative Biology  Quantitative Finance            labels  \n",
              "0                 0.029509              0.013025           Physics  \n",
              "1                 0.028336              0.012648       Mathematics  \n",
              "2                 0.023617              0.012312           Physics  \n",
              "3                 0.019058              0.013845  Computer Science  \n",
              "4                 0.029509              0.013025           Physics  \n",
              "...                    ...                   ...               ...  \n",
              "3967              0.027390              0.011009       Mathematics  \n",
              "3968              0.026535              0.013542           Physics  \n",
              "3969              0.032461              0.012412       Mathematics  \n",
              "3970              0.026535              0.013542           Physics  \n",
              "3971              0.025447              0.014337  Computer Science  \n",
              "\n",
              "[3972 rows x 7 columns]"
            ]
          },
          "metadata": {
            "tags": []
          },
          "execution_count": 178
        }
      ]
    },
    {
      "cell_type": "code",
      "metadata": {
        "id": "Ua9KYPr6Q753"
      },
      "source": [
        "test_data = pd.read_csv('internship/TEST.csv')\n",
        "new_df = pd.DataFrame()\n",
        "new_df = pd.concat([test_data, pred_df['labels']], axis = 1)\n",
        "new_df.to_csv('internship/submission.csv', index = False)"
      ],
      "execution_count": null,
      "outputs": []
    },
    {
      "cell_type": "code",
      "metadata": {
        "id": "83Lv-HOUQ753"
      },
      "source": [
        ""
      ],
      "execution_count": null,
      "outputs": []
    }
  ]
}