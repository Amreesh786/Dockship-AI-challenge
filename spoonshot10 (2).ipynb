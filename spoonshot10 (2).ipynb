{
  "nbformat": 4,
  "nbformat_minor": 0,
  "metadata": {
    "colab": {
      "name": "spoonshot10.ipynb",
      "provenance": []
    },
    "kernelspec": {
      "display_name": "Python 3",
      "language": "python",
      "name": "python3"
    },
    "language_info": {
      "codemirror_mode": {
        "name": "ipython",
        "version": 3
      },
      "file_extension": ".py",
      "mimetype": "text/x-python",
      "name": "python",
      "nbconvert_exporter": "python",
      "pygments_lexer": "ipython3",
      "version": "3.7.6"
    }
  },
  "cells": [
    {
      "cell_type": "code",
      "metadata": {
        "id": "8-IGx_OA_EDU"
      },
      "source": [
        "import zipfile\n",
        "import numpy as np\n",
        "import pandas as pd\n",
        "import warnings\n",
        "warnings.filterwarnings(\"ignore\")\n",
        "import matplotlib.pyplot as plt\n",
        "from nltk.corpus import stopwords\n",
        "import re"
      ],
      "execution_count": 1,
      "outputs": []
    },
    {
      "cell_type": "code",
      "metadata": {
        "id": "MKT0okAW-JXl",
        "outputId": "bdeb6a92-7853-4c66-a6a3-51bb7f46315e",
        "colab": {
          "base_uri": "https://localhost:8080/"
        }
      },
      "source": [
        "!pip install gensim"
      ],
      "execution_count": 2,
      "outputs": [
        {
          "output_type": "stream",
          "text": [
            "Requirement already satisfied: gensim in /usr/local/lib/python3.6/dist-packages (3.6.0)\n",
            "Requirement already satisfied: six>=1.5.0 in /usr/local/lib/python3.6/dist-packages (from gensim) (1.15.0)\n",
            "Requirement already satisfied: scipy>=0.18.1 in /usr/local/lib/python3.6/dist-packages (from gensim) (1.4.1)\n",
            "Requirement already satisfied: smart-open>=1.2.1 in /usr/local/lib/python3.6/dist-packages (from gensim) (3.0.0)\n",
            "Requirement already satisfied: numpy>=1.11.3 in /usr/local/lib/python3.6/dist-packages (from gensim) (1.18.5)\n",
            "Requirement already satisfied: requests in /usr/local/lib/python3.6/dist-packages (from smart-open>=1.2.1->gensim) (2.23.0)\n",
            "Requirement already satisfied: urllib3!=1.25.0,!=1.25.1,<1.26,>=1.21.1 in /usr/local/lib/python3.6/dist-packages (from requests->smart-open>=1.2.1->gensim) (1.24.3)\n",
            "Requirement already satisfied: certifi>=2017.4.17 in /usr/local/lib/python3.6/dist-packages (from requests->smart-open>=1.2.1->gensim) (2020.6.20)\n",
            "Requirement already satisfied: idna<3,>=2.5 in /usr/local/lib/python3.6/dist-packages (from requests->smart-open>=1.2.1->gensim) (2.10)\n",
            "Requirement already satisfied: chardet<4,>=3.0.2 in /usr/local/lib/python3.6/dist-packages (from requests->smart-open>=1.2.1->gensim) (3.0.4)\n"
          ],
          "name": "stdout"
        }
      ]
    },
    {
      "cell_type": "code",
      "metadata": {
        "id": "RbD-9ku9_EDd"
      },
      "source": [
        "localzip ='spoonshot_internship_hiring_ai_challenge-dataset.zip'\n",
        "zip_ref = zipfile.ZipFile(localzip,'r')\n",
        "zip_ref.extractall()"
      ],
      "execution_count": 3,
      "outputs": []
    },
    {
      "cell_type": "code",
      "metadata": {
        "id": "7QZelTc3_EDk"
      },
      "source": [
        "Train_data = pd.read_csv(\"TRAIN.csv\")\n",
        "test_data = pd.read_csv(\"TEST.csv\")"
      ],
      "execution_count": 4,
      "outputs": []
    },
    {
      "cell_type": "code",
      "metadata": {
        "id": "QGwcN6OdNvwn"
      },
      "source": [
        "test_data=test_data.set_index(np.arange(17000,20972))"
      ],
      "execution_count": 5,
      "outputs": []
    },
    {
      "cell_type": "code",
      "metadata": {
        "id": "2tbiOvq2_EDw"
      },
      "source": [
        "text_data = Train_data[['TITLE','ABSTRACT']]"
      ],
      "execution_count": 6,
      "outputs": []
    },
    {
      "cell_type": "code",
      "metadata": {
        "id": "nGumwnOI_ED2",
        "outputId": "86d3873b-937c-47a9-93cb-d46776a34a32",
        "colab": {
          "base_uri": "https://localhost:8080/",
          "height": 204
        }
      },
      "source": [
        "text_data.head()"
      ],
      "execution_count": 7,
      "outputs": [
        {
          "output_type": "execute_result",
          "data": {
            "text/html": [
              "<div>\n",
              "<style scoped>\n",
              "    .dataframe tbody tr th:only-of-type {\n",
              "        vertical-align: middle;\n",
              "    }\n",
              "\n",
              "    .dataframe tbody tr th {\n",
              "        vertical-align: top;\n",
              "    }\n",
              "\n",
              "    .dataframe thead th {\n",
              "        text-align: right;\n",
              "    }\n",
              "</style>\n",
              "<table border=\"1\" class=\"dataframe\">\n",
              "  <thead>\n",
              "    <tr style=\"text-align: right;\">\n",
              "      <th></th>\n",
              "      <th>TITLE</th>\n",
              "      <th>ABSTRACT</th>\n",
              "    </tr>\n",
              "  </thead>\n",
              "  <tbody>\n",
              "    <tr>\n",
              "      <th>0</th>\n",
              "      <td>ChemGAN challenge for drug discovery: can AI r...</td>\n",
              "      <td>Generating molecules with desired chemical p...</td>\n",
              "    </tr>\n",
              "    <tr>\n",
              "      <th>1</th>\n",
              "      <td>Hybrid graphene tunneling photoconductor with ...</td>\n",
              "      <td>Hybrid graphene photoconductor/phototransist...</td>\n",
              "    </tr>\n",
              "    <tr>\n",
              "      <th>2</th>\n",
              "      <td>Temperature Dependence of Magnetic Excitations...</td>\n",
              "      <td>When an ordered spin system of a given dimen...</td>\n",
              "    </tr>\n",
              "    <tr>\n",
              "      <th>3</th>\n",
              "      <td>A Las Vegas algorithm to solve the elliptic cu...</td>\n",
              "      <td>In this paper, we describe a new Las Vegas a...</td>\n",
              "    </tr>\n",
              "    <tr>\n",
              "      <th>4</th>\n",
              "      <td>Comparing simulations and test data of a radia...</td>\n",
              "      <td>The VIS instrument on board the Euclid missi...</td>\n",
              "    </tr>\n",
              "  </tbody>\n",
              "</table>\n",
              "</div>"
            ],
            "text/plain": [
              "                                               TITLE                                           ABSTRACT\n",
              "0  ChemGAN challenge for drug discovery: can AI r...    Generating molecules with desired chemical p...\n",
              "1  Hybrid graphene tunneling photoconductor with ...    Hybrid graphene photoconductor/phototransist...\n",
              "2  Temperature Dependence of Magnetic Excitations...    When an ordered spin system of a given dimen...\n",
              "3  A Las Vegas algorithm to solve the elliptic cu...    In this paper, we describe a new Las Vegas a...\n",
              "4  Comparing simulations and test data of a radia...    The VIS instrument on board the Euclid missi..."
            ]
          },
          "metadata": {
            "tags": []
          },
          "execution_count": 7
        }
      ]
    },
    {
      "cell_type": "code",
      "metadata": {
        "id": "iTZk-Tjl_ED_",
        "outputId": "9ba6f4b2-8d00-4f97-bdcb-f978f887a423",
        "colab": {
          "base_uri": "https://localhost:8080/"
        }
      },
      "source": [
        "import nltk\n",
        "nltk.download('stopwords')\n",
        "import nltk\n",
        "nltk.download('wordnet')"
      ],
      "execution_count": 8,
      "outputs": [
        {
          "output_type": "stream",
          "text": [
            "[nltk_data] Downloading package stopwords to /root/nltk_data...\n",
            "[nltk_data]   Package stopwords is already up-to-date!\n",
            "[nltk_data] Downloading package wordnet to /root/nltk_data...\n",
            "[nltk_data]   Package wordnet is already up-to-date!\n"
          ],
          "name": "stdout"
        },
        {
          "output_type": "execute_result",
          "data": {
            "text/plain": [
              "True"
            ]
          },
          "metadata": {
            "tags": []
          },
          "execution_count": 8
        }
      ]
    },
    {
      "cell_type": "code",
      "metadata": {
        "id": "PkOj-8XPNvw_",
        "outputId": "24ef31e0-f94a-4e0c-84dd-525735af628a",
        "colab": {
          "base_uri": "https://localhost:8080/"
        }
      },
      "source": [
        "total_data = pd.concat([text_data,test_data],0)\n",
        "total_data.shape"
      ],
      "execution_count": 9,
      "outputs": [
        {
          "output_type": "execute_result",
          "data": {
            "text/plain": [
              "(20972, 2)"
            ]
          },
          "metadata": {
            "tags": []
          },
          "execution_count": 9
        }
      ]
    },
    {
      "cell_type": "code",
      "metadata": {
        "id": "ek9WnlSfNvxF",
        "outputId": "034c3f51-d4a5-48a1-a637-dd5abbd3a5f0",
        "colab": {
          "base_uri": "https://localhost:8080/",
          "height": 204
        }
      },
      "source": [
        "test_data.head()"
      ],
      "execution_count": 10,
      "outputs": [
        {
          "output_type": "execute_result",
          "data": {
            "text/html": [
              "<div>\n",
              "<style scoped>\n",
              "    .dataframe tbody tr th:only-of-type {\n",
              "        vertical-align: middle;\n",
              "    }\n",
              "\n",
              "    .dataframe tbody tr th {\n",
              "        vertical-align: top;\n",
              "    }\n",
              "\n",
              "    .dataframe thead th {\n",
              "        text-align: right;\n",
              "    }\n",
              "</style>\n",
              "<table border=\"1\" class=\"dataframe\">\n",
              "  <thead>\n",
              "    <tr style=\"text-align: right;\">\n",
              "      <th></th>\n",
              "      <th>TITLE</th>\n",
              "      <th>ABSTRACT</th>\n",
              "    </tr>\n",
              "  </thead>\n",
              "  <tbody>\n",
              "    <tr>\n",
              "      <th>17000</th>\n",
              "      <td>On the wave propagation analysis and supratran...</td>\n",
              "      <td>In this research, we investigate the nonline...</td>\n",
              "    </tr>\n",
              "    <tr>\n",
              "      <th>17001</th>\n",
              "      <td>Thermal and non-thermal emission from the coco...</td>\n",
              "      <td>We present hydrodynamic simulations of the h...</td>\n",
              "    </tr>\n",
              "    <tr>\n",
              "      <th>17002</th>\n",
              "      <td>HTEM data improve 3D modelling of aquifers in ...</td>\n",
              "      <td>In Paris Basin, we evaluate how HTEM data co...</td>\n",
              "    </tr>\n",
              "    <tr>\n",
              "      <th>17003</th>\n",
              "      <td>Chirality-induced Antisymmetry in Magnetic Dom...</td>\n",
              "      <td>In chiral magnetic materials, numerous intri...</td>\n",
              "    </tr>\n",
              "    <tr>\n",
              "      <th>17004</th>\n",
              "      <td>In-home and remote use of robotic body surroga...</td>\n",
              "      <td>People with profound motor deficits could pe...</td>\n",
              "    </tr>\n",
              "  </tbody>\n",
              "</table>\n",
              "</div>"
            ],
            "text/plain": [
              "                                                   TITLE                                           ABSTRACT\n",
              "17000  On the wave propagation analysis and supratran...    In this research, we investigate the nonline...\n",
              "17001  Thermal and non-thermal emission from the coco...    We present hydrodynamic simulations of the h...\n",
              "17002  HTEM data improve 3D modelling of aquifers in ...    In Paris Basin, we evaluate how HTEM data co...\n",
              "17003  Chirality-induced Antisymmetry in Magnetic Dom...    In chiral magnetic materials, numerous intri...\n",
              "17004  In-home and remote use of robotic body surroga...    People with profound motor deficits could pe..."
            ]
          },
          "metadata": {
            "tags": []
          },
          "execution_count": 10
        }
      ]
    },
    {
      "cell_type": "code",
      "metadata": {
        "id": "vuXLqN2R_EEG"
      },
      "source": [
        "stopwords = nltk.corpus.stopwords.words('english')\n",
        "def nlp_preprocessing(total_text, index, column):\n",
        "    if type(total_text) is not int:\n",
        "        string = \"\"\n",
        "        # replace every special char with space\n",
        "        total_text = re.sub('[^a-zA-Z0-9\\n]', ' ', total_text)\n",
        "        # replace multiple spaces with single space\n",
        "        total_text = re.sub('\\s+',' ', total_text)\n",
        "        # converting all the chars into lower-case.\n",
        "        total_text = total_text.lower()\n",
        "        for word in total_text.split():\n",
        "        # if the word is a not a stop word then retain that word from the data\n",
        "            if not word in stopwords:\n",
        "                string += word + \" \"\n",
        "        total_data[column][index] = string"
      ],
      "execution_count": 11,
      "outputs": []
    },
    {
      "cell_type": "code",
      "metadata": {
        "id": "RjBiCb2aWguh"
      },
      "source": [
        "#clean the data of TITLE\n",
        "for index, row in total_data.iterrows():\n",
        "    if type(row['TITLE']) is str:\n",
        "        nlp_preprocessing(row['TITLE'], index, 'TITLE')\n",
        "    else:\n",
        "        print(\"there is no text description for id:\",index)"
      ],
      "execution_count": 12,
      "outputs": []
    },
    {
      "cell_type": "code",
      "metadata": {
        "id": "7XFf4oRf_EES"
      },
      "source": [
        "#clean the data of title\n",
        "for index, row in total_data.iterrows():\n",
        "    if type(row['ABSTRACT']) is str:\n",
        "        nlp_preprocessing(row['ABSTRACT'], index, 'ABSTRACT')\n",
        "    else:\n",
        "        print(\"there is no text description for id:\",index)"
      ],
      "execution_count": 13,
      "outputs": []
    },
    {
      "cell_type": "code",
      "metadata": {
        "id": "GgK8V3gs_EEY"
      },
      "source": [
        "#stemming words\n",
        "from nltk.stem.snowball import PorterStemmer , SnowballStemmer\n",
        "ps = PorterStemmer()\n",
        "def PorterStemming(col , total_data):\n",
        "    for i in range(total_data.shape[0]):\n",
        "        text = total_data[col][i]\n",
        "        string = \" \"\n",
        "        for word in text.split():\n",
        "            x = ps.stem(word)\n",
        "            string += x + \" \"\n",
        "        total_data[col][i] = string "
      ],
      "execution_count": 14,
      "outputs": []
    },
    {
      "cell_type": "code",
      "metadata": {
        "id": "ceGv2At__EEd"
      },
      "source": [
        "PorterStemming('ABSTRACT' , total_data)\n",
        "PorterStemming('TITLE' , total_data)"
      ],
      "execution_count": 15,
      "outputs": []
    },
    {
      "cell_type": "code",
      "metadata": {
        "id": "eizQt872_EEi"
      },
      "source": [
        "from nltk.stem import WordNetLemmatizer\n",
        "lm=WordNetLemmatizer()\n",
        "def lemmatizer(col , total_data):\n",
        "    for i in range(total_data.shape[0]):\n",
        "        text = total_data[col][i]\n",
        "        string = \" \"\n",
        "        for word in text.split():\n",
        "            x = lm.lemmatize(word)\n",
        "            string += x + \" \"\n",
        "        total_data[col][i] = string "
      ],
      "execution_count": 16,
      "outputs": []
    },
    {
      "cell_type": "code",
      "metadata": {
        "id": "nWS2Z6_w_EEo"
      },
      "source": [
        "lemmatizer('TITLE' , total_data)\n",
        "lemmatizer('ABSTRACT',total_data)"
      ],
      "execution_count": 17,
      "outputs": []
    },
    {
      "cell_type": "code",
      "metadata": {
        "id": "qxfO3jcZNvx3"
      },
      "source": [
        "total_data['TEXT'] = total_data['TITLE'].str.cat(total_data['ABSTRACT'], sep =\" \") "
      ],
      "execution_count": 18,
      "outputs": []
    },
    {
      "cell_type": "code",
      "metadata": {
        "id": "XCkQPagTNvx8"
      },
      "source": [
        "total_data = total_data.drop(['TITLE','ABSTRACT'],1)"
      ],
      "execution_count": 19,
      "outputs": []
    },
    {
      "cell_type": "code",
      "metadata": {
        "id": "sEA9YS6ONvyC",
        "outputId": "0a3a7e17-cab5-4bf6-b2d1-82cb65c11f49",
        "colab": {
          "base_uri": "https://localhost:8080/",
          "height": 204
        }
      },
      "source": [
        "total_data.head()"
      ],
      "execution_count": 20,
      "outputs": [
        {
          "output_type": "execute_result",
          "data": {
            "text/html": [
              "<div>\n",
              "<style scoped>\n",
              "    .dataframe tbody tr th:only-of-type {\n",
              "        vertical-align: middle;\n",
              "    }\n",
              "\n",
              "    .dataframe tbody tr th {\n",
              "        vertical-align: top;\n",
              "    }\n",
              "\n",
              "    .dataframe thead th {\n",
              "        text-align: right;\n",
              "    }\n",
              "</style>\n",
              "<table border=\"1\" class=\"dataframe\">\n",
              "  <thead>\n",
              "    <tr style=\"text-align: right;\">\n",
              "      <th></th>\n",
              "      <th>TEXT</th>\n",
              "    </tr>\n",
              "  </thead>\n",
              "  <tbody>\n",
              "    <tr>\n",
              "      <th>0</th>\n",
              "      <td>chemgan challeng drug discoveri ai reproduc n...</td>\n",
              "    </tr>\n",
              "    <tr>\n",
              "      <th>1</th>\n",
              "      <td>hybrid graphen tunnel photoconductor interfac...</td>\n",
              "    </tr>\n",
              "    <tr>\n",
              "      <th>2</th>\n",
              "      <td>temperatur depend magnet excit terahertz magn...</td>\n",
              "    </tr>\n",
              "    <tr>\n",
              "      <th>3</th>\n",
              "      <td>la vega algorithm solv ellipt curv discret lo...</td>\n",
              "    </tr>\n",
              "    <tr>\n",
              "      <th>4</th>\n",
              "      <td>compar simul test data radiat damag charg cou...</td>\n",
              "    </tr>\n",
              "  </tbody>\n",
              "</table>\n",
              "</div>"
            ],
            "text/plain": [
              "                                                TEXT\n",
              "0   chemgan challeng drug discoveri ai reproduc n...\n",
              "1   hybrid graphen tunnel photoconductor interfac...\n",
              "2   temperatur depend magnet excit terahertz magn...\n",
              "3   la vega algorithm solv ellipt curv discret lo...\n",
              "4   compar simul test data radiat damag charg cou..."
            ]
          },
          "metadata": {
            "tags": []
          },
          "execution_count": 20
        }
      ]
    },
    {
      "cell_type": "code",
      "metadata": {
        "id": "WLKjjl23-UVI"
      },
      "source": [
        "from sklearn.feature_extraction.text import TfidfVectorizer\n",
        "vectorizer = TfidfVectorizer()\n",
        "X = vectorizer.fit_transform(total_data['TEXT'])"
      ],
      "execution_count": 21,
      "outputs": []
    },
    {
      "cell_type": "code",
      "metadata": {
        "id": "I5GA43dHBDvH"
      },
      "source": [
        "X_train = X[0:17000]\n",
        "X_test = X[17000:]"
      ],
      "execution_count": 22,
      "outputs": []
    },
    {
      "cell_type": "code",
      "metadata": {
        "id": "dE90OabrBiqt",
        "outputId": "40091f2f-8fde-460f-8e15-ff4e1a5b877b",
        "colab": {
          "base_uri": "https://localhost:8080/"
        }
      },
      "source": [
        "print(X_train.shape)\n",
        "print(X_test.shape)"
      ],
      "execution_count": 23,
      "outputs": [
        {
          "output_type": "stream",
          "text": [
            "(17000, 39098)\n",
            "(3972, 39098)\n"
          ],
          "name": "stdout"
        }
      ]
    },
    {
      "cell_type": "code",
      "metadata": {
        "id": "lHnqScGVCKeF",
        "outputId": "9de99cf9-9f4f-4154-dd21-b033004b735a",
        "colab": {
          "base_uri": "https://localhost:8080/"
        }
      },
      "source": [
        "Train_data.columns"
      ],
      "execution_count": 24,
      "outputs": [
        {
          "output_type": "execute_result",
          "data": {
            "text/plain": [
              "Index(['TITLE', 'ABSTRACT', 'Computer Science', 'Physics', 'Mathematics',\n",
              "       'Statistics', 'Quantitative Biology', 'Quantitative Finance', 'labels'],\n",
              "      dtype='object')"
            ]
          },
          "metadata": {
            "tags": []
          },
          "execution_count": 24
        }
      ]
    },
    {
      "cell_type": "code",
      "metadata": {
        "id": "Zc0uTlZFCRq4"
      },
      "source": [
        "Y = Train_data[['Computer Science', 'Physics', 'Mathematics','Statistics', 'Quantitative Biology', 'Quantitative Finance']]"
      ],
      "execution_count": 25,
      "outputs": []
    },
    {
      "cell_type": "code",
      "metadata": {
        "id": "T38aq2Yb_EE5",
        "outputId": "92e4dc3d-6417-4357-c08f-75a7ac7c1680",
        "colab": {
          "base_uri": "https://localhost:8080/"
        }
      },
      "source": [
        "from sklearn.model_selection import train_test_split\n",
        "xtrain,xtest,ytrain,ytest = train_test_split(X_train,Y, random_state=42, test_size=0.30, shuffle=True)\n",
        "print(xtrain.shape)\n",
        "print(xtest.shape)\n",
        "print(ytrain.shape)\n",
        "print(ytest.shape)"
      ],
      "execution_count": 26,
      "outputs": [
        {
          "output_type": "stream",
          "text": [
            "(11900, 39098)\n",
            "(5100, 39098)\n",
            "(11900, 6)\n",
            "(5100, 6)\n"
          ],
          "name": "stdout"
        }
      ]
    },
    {
      "cell_type": "code",
      "metadata": {
        "id": "D02xWWRo_EFs"
      },
      "source": [
        "from sklearn.multioutput import MultiOutputClassifier\n",
        "from sklearn.ensemble import RandomForestClassifier"
      ],
      "execution_count": 27,
      "outputs": []
    },
    {
      "cell_type": "code",
      "metadata": {
        "id": "3-bW0JfZCNQF",
        "outputId": "82c25891-9321-4e7b-91db-9e458bca5ef2",
        "colab": {
          "base_uri": "https://localhost:8080/"
        }
      },
      "source": [
        "forest = RandomForestClassifier(random_state=1)\n",
        "multi_target_forest = MultiOutputClassifier(forest)\n",
        "multi_target_forest.fit(xtrain, ytrain)"
      ],
      "execution_count": 28,
      "outputs": [
        {
          "output_type": "execute_result",
          "data": {
            "text/plain": [
              "MultiOutputClassifier(estimator=RandomForestClassifier(bootstrap=True,\n",
              "                                                       ccp_alpha=0.0,\n",
              "                                                       class_weight=None,\n",
              "                                                       criterion='gini',\n",
              "                                                       max_depth=None,\n",
              "                                                       max_features='auto',\n",
              "                                                       max_leaf_nodes=None,\n",
              "                                                       max_samples=None,\n",
              "                                                       min_impurity_decrease=0.0,\n",
              "                                                       min_impurity_split=None,\n",
              "                                                       min_samples_leaf=1,\n",
              "                                                       min_samples_split=2,\n",
              "                                                       min_weight_fraction_leaf=0.0,\n",
              "                                                       n_estimators=100,\n",
              "                                                       n_jobs=None,\n",
              "                                                       oob_score=False,\n",
              "                                                       random_state=1,\n",
              "                                                       verbose=0,\n",
              "                                                       warm_start=False),\n",
              "                      n_jobs=None)"
            ]
          },
          "metadata": {
            "tags": []
          },
          "execution_count": 28
        }
      ]
    },
    {
      "cell_type": "code",
      "metadata": {
        "id": "LZa8XAIpDlNu"
      },
      "source": [
        "y_pred = multi_target_forest.predict(xtest)"
      ],
      "execution_count": 29,
      "outputs": []
    },
    {
      "cell_type": "code",
      "metadata": {
        "id": "D4N132JAD5Io",
        "outputId": "cd068ca3-0c6f-478e-9472-d3551c55a242",
        "colab": {
          "base_uri": "https://localhost:8080/"
        }
      },
      "source": [
        "from sklearn.metrics import accuracy_score\n",
        "acc = accuracy_score(ytest,y_pred)\n",
        "print(acc)"
      ],
      "execution_count": 30,
      "outputs": [
        {
          "output_type": "stream",
          "text": [
            "0.5982352941176471\n"
          ],
          "name": "stdout"
        }
      ]
    },
    {
      "cell_type": "code",
      "metadata": {
        "id": "y6LJEGKPDCJ_",
        "outputId": "4208137d-f586-4b1d-97a5-1c291e10b48b",
        "colab": {
          "base_uri": "https://localhost:8080/"
        }
      },
      "source": [
        "xtrain = xtrain.toarray()\n",
        "from sklearn.naive_bayes import GaussianNB\n",
        "gnb = GaussianNB()\n",
        "multi_NB = MultiOutputClassifier(gnb)\n",
        "multi_NB.fit(xtrain, ytrain)"
      ],
      "execution_count": 31,
      "outputs": [
        {
          "output_type": "execute_result",
          "data": {
            "text/plain": [
              "MultiOutputClassifier(estimator=GaussianNB(priors=None, var_smoothing=1e-09),\n",
              "                      n_jobs=None)"
            ]
          },
          "metadata": {
            "tags": []
          },
          "execution_count": 31
        }
      ]
    },
    {
      "cell_type": "code",
      "metadata": {
        "id": "fmeIoQviHZra"
      },
      "source": [
        "xtest = xtest.toarray()\n",
        "y_pred1 = multi_NB.predict(xtest)"
      ],
      "execution_count": 32,
      "outputs": []
    },
    {
      "cell_type": "code",
      "metadata": {
        "id": "opcV5KN4IycM",
        "outputId": "fe68792d-96af-4b3c-b145-ad32276ece49",
        "colab": {
          "base_uri": "https://localhost:8080/"
        }
      },
      "source": [
        "acc = accuracy_score(ytest,y_pred1)\n",
        "print(acc)"
      ],
      "execution_count": 33,
      "outputs": [
        {
          "output_type": "stream",
          "text": [
            "0.4419607843137255\n"
          ],
          "name": "stdout"
        }
      ]
    },
    {
      "cell_type": "code",
      "metadata": {
        "id": "xv75Q-HyI0QS"
      },
      "source": [
        "y_pred_R = multi_target_forest.predict(X_test) "
      ],
      "execution_count": 34,
      "outputs": []
    },
    {
      "cell_type": "code",
      "metadata": {
        "id": "L5lOuifWRcnE"
      },
      "source": [
        "pred_df = pd.DataFrame(y_pred_R)"
      ],
      "execution_count": 35,
      "outputs": []
    },
    {
      "cell_type": "code",
      "metadata": {
        "id": "jEXnaNLCKbNq"
      },
      "source": [
        "\n",
        "pred_df.columns = ytrain.columns"
      ],
      "execution_count": 36,
      "outputs": []
    },
    {
      "cell_type": "code",
      "metadata": {
        "id": "glPRx6JMK3oz",
        "outputId": "fa195174-8ea5-40a2-ec01-debf22afa057",
        "colab": {
          "base_uri": "https://localhost:8080/"
        }
      },
      "source": [
        "pred_df.shape"
      ],
      "execution_count": 37,
      "outputs": [
        {
          "output_type": "execute_result",
          "data": {
            "text/plain": [
              "(3972, 6)"
            ]
          },
          "metadata": {
            "tags": []
          },
          "execution_count": 37
        }
      ]
    },
    {
      "cell_type": "code",
      "metadata": {
        "id": "dr8bzwtZPPdU"
      },
      "source": [
        "pred_df[\"Result\"] = 0"
      ],
      "execution_count": 38,
      "outputs": []
    },
    {
      "cell_type": "code",
      "metadata": {
        "id": "xjQytcOEK5aK"
      },
      "source": [
        "labels = ytrain.columns[:-1]\n",
        "for i in range(X_test.shape[0]):\n",
        "  x = []\n",
        "  for j in labels:\n",
        "    if pred_df[j][i] == 1:\n",
        "      x.append(j)\n",
        "  pred_df[\"Result\"][i] = x \n"
      ],
      "execution_count": 39,
      "outputs": []
    },
    {
      "cell_type": "code",
      "metadata": {
        "id": "CBetk4M7OXcJ"
      },
      "source": [
        "pred_df['Result'] = pred_df['Result'].apply(lambda x : x[0] if len(x)>0 else 0)"
      ],
      "execution_count": 40,
      "outputs": []
    },
    {
      "cell_type": "code",
      "metadata": {
        "id": "mJMRG_xQQyYm",
        "outputId": "30383087-70c6-4f99-d869-2a192b726e5e",
        "colab": {
          "base_uri": "https://localhost:8080/"
        }
      },
      "source": [
        "pred_df['Result'].value_counts()"
      ],
      "execution_count": 42,
      "outputs": [
        {
          "output_type": "execute_result",
          "data": {
            "text/plain": [
              "Computer Science    1681\n",
              "Physics              886\n",
              "Mathematics          744\n",
              "0                    516\n",
              "Statistics           145\n",
              "Name: Result, dtype: int64"
            ]
          },
          "metadata": {
            "tags": []
          },
          "execution_count": 42
        }
      ]
    },
    {
      "cell_type": "code",
      "metadata": {
        "id": "YlazF4_RR175"
      },
      "source": [
        "X_test = X_test.toarray()\n",
        "y_pred_ = multi_NB.predict(X_test)\n"
      ],
      "execution_count": 43,
      "outputs": []
    },
    {
      "cell_type": "code",
      "metadata": {
        "id": "jyfDGkdPcV1R"
      },
      "source": [
        "pred_df1 = pd.DataFrame(y_pred_)\n",
        "pred_df1.columns = ytrain.columns\n",
        "pred_df1[\"Result\"] = 0\n",
        "labels = ytrain.columns[:-1]\n",
        "for i in range(X_test.shape[0]):\n",
        "  x = []\n",
        "  for j in labels:\n",
        "    if pred_df1[j][i] == 1:\n",
        "      x.append(j)\n",
        "  pred_df1[\"Result\"][i] = x "
      ],
      "execution_count": 44,
      "outputs": []
    },
    {
      "cell_type": "code",
      "metadata": {
        "id": "pgGW7ZOUclDG",
        "outputId": "16825426-4038-4012-8830-2206cdd6e118",
        "colab": {
          "base_uri": "https://localhost:8080/"
        }
      },
      "source": [
        "len(pred_df1['Result'][0])"
      ],
      "execution_count": 45,
      "outputs": [
        {
          "output_type": "execute_result",
          "data": {
            "text/plain": [
              "1"
            ]
          },
          "metadata": {
            "tags": []
          },
          "execution_count": 45
        }
      ]
    },
    {
      "cell_type": "code",
      "metadata": {
        "id": "nWy78UuRdaz6"
      },
      "source": [
        "for i in range(pred_df1.shape[0]):\n",
        "  x= pred_df1['Result'][i]\n",
        "  if len(x)<1:\n",
        "    pred_df1['Result'][i]=\"Physics\"\n",
        "  else:\n",
        "    pred_df1['Result'][i]=\",\".join(x)"
      ],
      "execution_count": 46,
      "outputs": []
    },
    {
      "cell_type": "code",
      "metadata": {
        "id": "6190DCkFfFfh",
        "outputId": "493c8d76-1a79-449d-9ee3-4c4a6be3a35f",
        "colab": {
          "base_uri": "https://localhost:8080/"
        }
      },
      "source": [
        "pred_df1['Result'].value_counts()"
      ],
      "execution_count": 47,
      "outputs": [
        {
          "output_type": "execute_result",
          "data": {
            "text/plain": [
              "Physics                                                                 1253\n",
              "Computer Science                                                         709\n",
              "Mathematics                                                              438\n",
              "Computer Science,Statistics                                              412\n",
              "Computer Science,Physics,Mathematics,Statistics                          210\n",
              "Computer Science,Mathematics,Statistics                                  143\n",
              "Computer Science,Mathematics                                             135\n",
              "Computer Science,Physics,Statistics                                      121\n",
              "Statistics                                                               108\n",
              "Physics,Mathematics                                                      107\n",
              "Computer Science,Physics                                                  98\n",
              "Mathematics,Statistics                                                    65\n",
              "Computer Science,Physics,Mathematics,Statistics,Quantitative Biology      45\n",
              "Computer Science,Physics,Mathematics                                      44\n",
              "Physics,Statistics                                                        26\n",
              "Physics,Mathematics,Statistics                                            17\n",
              "Quantitative Biology                                                      16\n",
              "Computer Science,Physics,Statistics,Quantitative Biology                   7\n",
              "Computer Science,Statistics,Quantitative Biology                           4\n",
              "Computer Science,Physics,Quantitative Biology                              3\n",
              "Statistics,Quantitative Biology                                            3\n",
              "Computer Science,Physics,Mathematics,Quantitative Biology                  2\n",
              "Computer Science,Quantitative Biology                                      2\n",
              "Computer Science,Mathematics,Statistics,Quantitative Biology               2\n",
              "Physics,Mathematics,Quantitative Biology                                   1\n",
              "Physics,Quantitative Biology                                               1\n",
              "Name: Result, dtype: int64"
            ]
          },
          "metadata": {
            "tags": []
          },
          "execution_count": 47
        }
      ]
    },
    {
      "cell_type": "code",
      "metadata": {
        "id": "paj_EiRNfLgv"
      },
      "source": [
        "data = pred_df1['Result']"
      ],
      "execution_count": null,
      "outputs": []
    },
    {
      "cell_type": "code",
      "metadata": {
        "id": "2QJ-aAfwffR1"
      },
      "source": [
        "data.to_csv(\"Amreesh.csv\")"
      ],
      "execution_count": null,
      "outputs": []
    },
    {
      "cell_type": "code",
      "metadata": {
        "id": "AXkL97yThClS",
        "outputId": "ec449487-5e06-408d-a7de-84c9f2b3fae7",
        "colab": {
          "base_uri": "https://localhost:8080/"
        }
      },
      "source": [
        "from sklearn.linear_model import LogisticRegression\n",
        "lg = LogisticRegression()\n",
        "multi_lg = MultiOutputClassifier(lg)\n",
        "multi_lg.fit(xtrain, ytrain)"
      ],
      "execution_count": 49,
      "outputs": [
        {
          "output_type": "execute_result",
          "data": {
            "text/plain": [
              "MultiOutputClassifier(estimator=LogisticRegression(C=1.0, class_weight=None,\n",
              "                                                   dual=False,\n",
              "                                                   fit_intercept=True,\n",
              "                                                   intercept_scaling=1,\n",
              "                                                   l1_ratio=None, max_iter=100,\n",
              "                                                   multi_class='auto',\n",
              "                                                   n_jobs=None, penalty='l2',\n",
              "                                                   random_state=None,\n",
              "                                                   solver='lbfgs', tol=0.0001,\n",
              "                                                   verbose=0,\n",
              "                                                   warm_start=False),\n",
              "                      n_jobs=None)"
            ]
          },
          "metadata": {
            "tags": []
          },
          "execution_count": 49
        }
      ]
    },
    {
      "cell_type": "code",
      "metadata": {
        "id": "F9sMH26tlogx"
      },
      "source": [
        "y_pred2 = multi_lg.predict(xtest)"
      ],
      "execution_count": 50,
      "outputs": []
    },
    {
      "cell_type": "code",
      "metadata": {
        "id": "iV0JI08Lpbi9",
        "outputId": "16c7bab7-64b5-4c77-f6eb-346bc66870fc",
        "colab": {
          "base_uri": "https://localhost:8080/"
        }
      },
      "source": [
        "acc = accuracy_score(ytest,y_pred2)\n",
        "print(acc)"
      ],
      "execution_count": 51,
      "outputs": [
        {
          "output_type": "stream",
          "text": [
            "0.6331372549019608\n"
          ],
          "name": "stdout"
        }
      ]
    },
    {
      "cell_type": "code",
      "metadata": {
        "id": "n_sS7qMNphTc"
      },
      "source": [
        "y_pred_lg = multi_lg.predict(X_test) "
      ],
      "execution_count": 52,
      "outputs": []
    },
    {
      "cell_type": "code",
      "metadata": {
        "id": "ko4pQoCrp4qo"
      },
      "source": [
        "pred_df4 = pd.DataFrame(y_pred_lg)\n",
        "pred_df4.columns = ytrain.columns\n",
        "pred_df4[\"Result\"] = 0"
      ],
      "execution_count": 53,
      "outputs": []
    },
    {
      "cell_type": "code",
      "metadata": {
        "id": "bYBAuQhaqH4V"
      },
      "source": [
        "labels = ytrain.columns[:-1]\n",
        "for i in range(X_test.shape[0]):\n",
        "  x = []\n",
        "  for j in labels:\n",
        "    if pred_df4[j][i] == 1:\n",
        "      x.append(j)\n",
        "  pred_df4[\"Result\"][i] = x \n"
      ],
      "execution_count": 54,
      "outputs": []
    },
    {
      "cell_type": "code",
      "metadata": {
        "id": "602_nIPQqrWy",
        "outputId": "f5f155d6-d4dc-4e36-ddfc-47708dac56e4",
        "colab": {
          "base_uri": "https://localhost:8080/",
          "height": 419
        }
      },
      "source": [
        "pred_df4"
      ],
      "execution_count": 55,
      "outputs": [
        {
          "output_type": "execute_result",
          "data": {
            "text/html": [
              "<div>\n",
              "<style scoped>\n",
              "    .dataframe tbody tr th:only-of-type {\n",
              "        vertical-align: middle;\n",
              "    }\n",
              "\n",
              "    .dataframe tbody tr th {\n",
              "        vertical-align: top;\n",
              "    }\n",
              "\n",
              "    .dataframe thead th {\n",
              "        text-align: right;\n",
              "    }\n",
              "</style>\n",
              "<table border=\"1\" class=\"dataframe\">\n",
              "  <thead>\n",
              "    <tr style=\"text-align: right;\">\n",
              "      <th></th>\n",
              "      <th>Computer Science</th>\n",
              "      <th>Physics</th>\n",
              "      <th>Mathematics</th>\n",
              "      <th>Statistics</th>\n",
              "      <th>Quantitative Biology</th>\n",
              "      <th>Quantitative Finance</th>\n",
              "      <th>Result</th>\n",
              "    </tr>\n",
              "  </thead>\n",
              "  <tbody>\n",
              "    <tr>\n",
              "      <th>0</th>\n",
              "      <td>0</td>\n",
              "      <td>1</td>\n",
              "      <td>0</td>\n",
              "      <td>0</td>\n",
              "      <td>0</td>\n",
              "      <td>0</td>\n",
              "      <td>[Physics]</td>\n",
              "    </tr>\n",
              "    <tr>\n",
              "      <th>1</th>\n",
              "      <td>0</td>\n",
              "      <td>1</td>\n",
              "      <td>0</td>\n",
              "      <td>0</td>\n",
              "      <td>0</td>\n",
              "      <td>0</td>\n",
              "      <td>[Physics]</td>\n",
              "    </tr>\n",
              "    <tr>\n",
              "      <th>2</th>\n",
              "      <td>0</td>\n",
              "      <td>0</td>\n",
              "      <td>0</td>\n",
              "      <td>0</td>\n",
              "      <td>0</td>\n",
              "      <td>0</td>\n",
              "      <td>[]</td>\n",
              "    </tr>\n",
              "    <tr>\n",
              "      <th>3</th>\n",
              "      <td>0</td>\n",
              "      <td>1</td>\n",
              "      <td>0</td>\n",
              "      <td>0</td>\n",
              "      <td>0</td>\n",
              "      <td>0</td>\n",
              "      <td>[Physics]</td>\n",
              "    </tr>\n",
              "    <tr>\n",
              "      <th>4</th>\n",
              "      <td>1</td>\n",
              "      <td>0</td>\n",
              "      <td>0</td>\n",
              "      <td>0</td>\n",
              "      <td>0</td>\n",
              "      <td>0</td>\n",
              "      <td>[Computer Science]</td>\n",
              "    </tr>\n",
              "    <tr>\n",
              "      <th>...</th>\n",
              "      <td>...</td>\n",
              "      <td>...</td>\n",
              "      <td>...</td>\n",
              "      <td>...</td>\n",
              "      <td>...</td>\n",
              "      <td>...</td>\n",
              "      <td>...</td>\n",
              "    </tr>\n",
              "    <tr>\n",
              "      <th>3967</th>\n",
              "      <td>0</td>\n",
              "      <td>0</td>\n",
              "      <td>0</td>\n",
              "      <td>1</td>\n",
              "      <td>0</td>\n",
              "      <td>0</td>\n",
              "      <td>[Statistics]</td>\n",
              "    </tr>\n",
              "    <tr>\n",
              "      <th>3968</th>\n",
              "      <td>0</td>\n",
              "      <td>0</td>\n",
              "      <td>1</td>\n",
              "      <td>1</td>\n",
              "      <td>0</td>\n",
              "      <td>0</td>\n",
              "      <td>[Mathematics, Statistics]</td>\n",
              "    </tr>\n",
              "    <tr>\n",
              "      <th>3969</th>\n",
              "      <td>0</td>\n",
              "      <td>0</td>\n",
              "      <td>0</td>\n",
              "      <td>0</td>\n",
              "      <td>0</td>\n",
              "      <td>0</td>\n",
              "      <td>[]</td>\n",
              "    </tr>\n",
              "    <tr>\n",
              "      <th>3970</th>\n",
              "      <td>1</td>\n",
              "      <td>0</td>\n",
              "      <td>0</td>\n",
              "      <td>0</td>\n",
              "      <td>0</td>\n",
              "      <td>0</td>\n",
              "      <td>[Computer Science]</td>\n",
              "    </tr>\n",
              "    <tr>\n",
              "      <th>3971</th>\n",
              "      <td>0</td>\n",
              "      <td>1</td>\n",
              "      <td>0</td>\n",
              "      <td>0</td>\n",
              "      <td>0</td>\n",
              "      <td>0</td>\n",
              "      <td>[Physics]</td>\n",
              "    </tr>\n",
              "  </tbody>\n",
              "</table>\n",
              "<p>3972 rows × 7 columns</p>\n",
              "</div>"
            ],
            "text/plain": [
              "      Computer Science  ...                     Result\n",
              "0                    0  ...                  [Physics]\n",
              "1                    0  ...                  [Physics]\n",
              "2                    0  ...                         []\n",
              "3                    0  ...                  [Physics]\n",
              "4                    1  ...         [Computer Science]\n",
              "...                ...  ...                        ...\n",
              "3967                 0  ...               [Statistics]\n",
              "3968                 0  ...  [Mathematics, Statistics]\n",
              "3969                 0  ...                         []\n",
              "3970                 1  ...         [Computer Science]\n",
              "3971                 0  ...                  [Physics]\n",
              "\n",
              "[3972 rows x 7 columns]"
            ]
          },
          "metadata": {
            "tags": []
          },
          "execution_count": 55
        }
      ]
    },
    {
      "cell_type": "code",
      "metadata": {
        "id": "INJNCS5eqKw4"
      },
      "source": [
        "for i in range(pred_df4.shape[0]):\n",
        "  x= pred_df4['Result'][i]\n",
        "  if len(x)<1:\n",
        "    pred_df4['Result'][i]=\"Physics\"\n",
        "  else:\n",
        "    pred_df4['Result'][i]=\",\".join(x)"
      ],
      "execution_count": 56,
      "outputs": []
    },
    {
      "cell_type": "code",
      "metadata": {
        "id": "tVETVqbPrB8j",
        "outputId": "f7fdc865-ccac-4ac8-870b-7423395a955c",
        "colab": {
          "base_uri": "https://localhost:8080/"
        }
      },
      "source": [
        "pred_df4['Result'].value_counts()"
      ],
      "execution_count": 59,
      "outputs": [
        {
          "output_type": "execute_result",
          "data": {
            "text/plain": [
              "Physics                                    1317\n",
              "Computer Science                           1043\n",
              "Mathematics                                 725\n",
              "Computer Science,Statistics                 464\n",
              "Statistics                                  207\n",
              "Mathematics,Statistics                      119\n",
              "Computer Science,Mathematics                 52\n",
              "Physics,Mathematics                          19\n",
              "Computer Science,Physics                     14\n",
              "Computer Science,Mathematics,Statistics       8\n",
              "Quantitative Biology                          2\n",
              "Statistics,Quantitative Biology               1\n",
              "Physics,Statistics                            1\n",
              "Name: Result, dtype: int64"
            ]
          },
          "metadata": {
            "tags": []
          },
          "execution_count": 59
        }
      ]
    },
    {
      "cell_type": "code",
      "metadata": {
        "id": "pUd1zmA1rD--"
      },
      "source": [
        "data = pred_df4['Result']\n",
        "data.to_csv(\"submission3.csv\")"
      ],
      "execution_count": 60,
      "outputs": []
    },
    {
      "cell_type": "code",
      "metadata": {
        "id": "pPm2J66tz1RW"
      },
      "source": [
        "from sklearn.ensemble import GradientBoostingClassifier\n",
        "clf = GradientBoostingClassifier(random_state=42)\n",
        "model  = MultiOutputClassifier(clf)\n",
        "model.fit(xtrain,ytrain)\n"
      ],
      "execution_count": null,
      "outputs": []
    },
    {
      "cell_type": "code",
      "metadata": {
        "id": "XhaQmyuf-tBa"
      },
      "source": [
        "y_pred5 = multi_lg.predict(xtest)\n",
        "acc = accuracy_score(ytest,y_pred5)\n",
        "print(acc)"
      ],
      "execution_count": null,
      "outputs": []
    },
    {
      "cell_type": "code",
      "metadata": {
        "id": "5CTKFLW4IQt8"
      },
      "source": [
        "y_pred_gb = multi_lg.predict(X_test)"
      ],
      "execution_count": null,
      "outputs": []
    },
    {
      "cell_type": "code",
      "metadata": {
        "id": "13AhYB40IaKb"
      },
      "source": [
        "pred_df5 = pd.DataFrame(y_pred_gb)\n",
        "pred_df5.columns = ytrain.columns\n",
        "pred_df5[\"Result\"] = 0"
      ],
      "execution_count": null,
      "outputs": []
    },
    {
      "cell_type": "code",
      "metadata": {
        "id": "uXKW2rbAIlEm"
      },
      "source": [
        "labels = ytrain.columns[:-1]\n",
        "for i in range(X_test.shape[0]):\n",
        "  x = []\n",
        "  for j in labels:\n",
        "    if pred_df5[j][i] == 1:\n",
        "      x.append(j)\n",
        "  pred_df5[\"Result\"][i] = x \n"
      ],
      "execution_count": null,
      "outputs": []
    },
    {
      "cell_type": "code",
      "metadata": {
        "id": "vS09Q9ZcIwkr"
      },
      "source": [
        "for i in range(pred_df4.shape[0]):\n",
        "  x= pred_df5['Result'][i]\n",
        "  if len(x)<1:\n",
        "    pred_df5['Result'][i]=\"Physics\"\n",
        "  else:\n",
        "    pred_df5['Result'][i]=\",\".join(x)"
      ],
      "execution_count": null,
      "outputs": []
    },
    {
      "cell_type": "code",
      "metadata": {
        "id": "jbXKLGa5I37H"
      },
      "source": [
        "data = pred_df5['Result']\n",
        "data.to_csv(\"submission5.csv\")"
      ],
      "execution_count": null,
      "outputs": []
    }
  ]
}